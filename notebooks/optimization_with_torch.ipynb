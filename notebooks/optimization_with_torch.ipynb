{
 "cells": [
  {
   "cell_type": "code",
   "execution_count": null,
   "id": "a4b22fb9-73e7-49c0-b5ae-a2c18ea3bfa4",
   "metadata": {
    "tags": []
   },
   "outputs": [],
   "source": [
    "import numpy as np\n",
    "import torch\n",
    "import matplotlib.pyplot as plt\n",
    "from torch import nn\n",
    "from torch.functional import F\n",
    "from copy import copy\n",
    "import seaborn as sns\n",
    "sns.set_style(\"whitegrid\")\n",
    "n = 1000\n",
    "noise = torch.Tensor(np.random.normal(0, 0.02, size=n))\n",
    "x = torch.arange(n)\n",
    "a, k, b = 0.7, .01, 0.2\n",
    "y = a * np.exp(-k * x) + b + noise\n",
    "plt.figure(figsize=(14, 7))\n",
    "plt.scatter(x, y, alpha=0.4)"
   ]
  },
  {
   "cell_type": "code",
   "execution_count": null,
   "id": "b339b7a6-0727-43db-b2b9-97337ae9eea4",
   "metadata": {
    "tags": []
   },
   "outputs": [],
   "source": [
    "class Model(nn.Module):\n",
    "    \"\"\"Custom Pytorch model for gradient optimization.\n",
    "    \"\"\"\n",
    "    def __init__(self):\n",
    "        \n",
    "        super().__init__()\n",
    "        # initialize weights with random numbers\n",
    "        weights = torch.distributions.Uniform(0, 0.1).sample((3,))\n",
    "        # make weights torch parameters\n",
    "        self.weights = nn.Parameter(weights)        \n",
    "        \n",
    "    def forward(self, X):\n",
    "        \"\"\"Implement function to be optimised. In this case, an exponential decay\n",
    "        function (a + exp(-k * X) + b),\n",
    "        \"\"\"\n",
    "        a, k, b = self.weights\n",
    "        return a * torch.exp(-k * X) + b\n",
    "    \n",
    "def training_loop(model, optimizer, n=1000):\n",
    "    \"Training loop for torch model.\"\n",
    "    losses = []\n",
    "    for i in range(n):\n",
    "        preds = model(x)\n",
    "        loss = F.mse_loss(preds, y).sqrt()\n",
    "        loss.backward()\n",
    "        optimizer.step()\n",
    "        optimizer.zero_grad()\n",
    "        losses.append(loss)  \n",
    "    return losses"
   ]
  },
  {
   "cell_type": "code",
   "execution_count": null,
   "id": "3294000c-4df4-49db-bcb8-6bad96abf1f7",
   "metadata": {
    "tags": []
   },
   "outputs": [],
   "source": [
    "# instantiate model\n",
    "m = Model()\n",
    "# Instantiate optimizer\n",
    "opt = torch.optim.Adam(m.parameters(), lr=0.001)\n",
    "losses = training_loop(m, opt)\n",
    "plt.figure(figsize=(14, 7))\n",
    "with torch.no_grad():\n",
    "    plt.plot(losses)\n",
    "\n",
    "print(m.weights)"
   ]
  },
  {
   "cell_type": "code",
   "execution_count": null,
   "id": "b6b2b8b2-a0c3-46fc-971c-b63b6f84ce76",
   "metadata": {
    "tags": []
   },
   "outputs": [],
   "source": [
    "preds = m(x)\n",
    "plt.figure(figsize=(14, 7))\n",
    "plt.scatter(x, preds.detach().numpy())\n",
    "plt.scatter(x, y, alpha=.3)"
   ]
  },
  {
   "cell_type": "code",
   "execution_count": null,
   "id": "7020f4b1-9512-48d4-8182-f90203613dd0",
   "metadata": {},
   "outputs": [],
   "source": []
  }
 ],
 "metadata": {
  "kernelspec": {
   "display_name": "ColRel",
   "language": "python",
   "name": "python3"
  },
  "language_info": {
   "codemirror_mode": {
    "name": "ipython",
    "version": 3
   },
   "file_extension": ".py",
   "mimetype": "text/x-python",
   "name": "python",
   "nbconvert_exporter": "python",
   "pygments_lexer": "ipython3",
   "version": "3.10.9"
  }
 },
 "nbformat": 4,
 "nbformat_minor": 5
}
