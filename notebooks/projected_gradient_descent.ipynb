{
 "cells": [
  {
   "cell_type": "code",
   "execution_count": null,
   "metadata": {},
   "outputs": [],
   "source": [
    "import torch\n",
    "from torch import nn\n",
    "from loguru import logger"
   ]
  },
  {
   "cell_type": "code",
   "execution_count": null,
   "metadata": {},
   "outputs": [],
   "source": [
    "class Model(nn.Module):\n",
    "    def __init__(self):\n",
    "        super().__init__()\n",
    "        self.x = nn.Parameter(torch.tensor(1.0))\n",
    "\n",
    "    def forward(self):\n",
    "        return (self.x + 1) ** 2"
   ]
  },
  {
   "cell_type": "code",
   "execution_count": null,
   "metadata": {},
   "outputs": [],
   "source": [
    "def training_loop(model: nn.Module, optimizer, num_iters: int):\n",
    "\n",
    "    losses = []\n",
    "\n",
    "    for i in range(num_iters):\n",
    "        loss = model()\n",
    "        loss.backward()\n",
    "        logger.info(f\"Gradient: {model.x.grad}\")\n",
    "        optimizer.step()\n",
    "        optimizer.zero_grad()\n",
    "\n",
    "        # Take projection\n",
    "        logger.info(f\"type(model.x.data) = {model.x.data}\")\n",
    "        logger.info(f\"(Before projection) model.x.data = {model.x.data}\")\n",
    "        lim = float(0.5)\n",
    "        logger.info(f\"type(lim): {type(lim)}\")\n",
    "        if model.x.data < lim:\n",
    "            model.x.data = torch.tensor(0.5)\n",
    "        logger.info(f\"(After projection) model.x.data = {model.x.data}\")\n",
    "\n",
    "        losses.append(loss)\n",
    "\n",
    "        if i % 10 == 0:\n",
    "            logger.info(f\"Iteration: {i}/{num_iters}\")\n",
    "\n",
    "    return losses\n",
    "    "
   ]
  },
  {
   "cell_type": "code",
   "execution_count": null,
   "metadata": {},
   "outputs": [],
   "source": [
    "m = Model()\n",
    "opt = torch.optim.SGD(m.parameters(), lr=0.1)\n",
    "losses = training_loop(model=m, optimizer=opt, num_iters=40)"
   ]
  },
  {
   "cell_type": "code",
   "execution_count": null,
   "metadata": {},
   "outputs": [],
   "source": [
    "import matplotlib.pyplot as plt\n",
    "\n",
    "plt.figure(figsize=(14, 7))\n",
    "with torch.no_grad():\n",
    "    plt.plot(losses)"
   ]
  }
 ],
 "metadata": {
  "kernelspec": {
   "display_name": "ColRel",
   "language": "python",
   "name": "python3"
  },
  "language_info": {
   "codemirror_mode": {
    "name": "ipython",
    "version": 3
   },
   "file_extension": ".py",
   "mimetype": "text/x-python",
   "name": "python",
   "nbconvert_exporter": "python",
   "pygments_lexer": "ipython3",
   "version": "3.10.9"
  },
  "orig_nbformat": 4
 },
 "nbformat": 4,
 "nbformat_minor": 2
}
